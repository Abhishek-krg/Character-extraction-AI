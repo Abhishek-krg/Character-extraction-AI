{
  "nbformat": 4,
  "nbformat_minor": 0,
  "metadata": {
    "colab": {
      "name": "NvGPUHackathon.ipynb",
      "provenance": [],
      "collapsed_sections": []
    },
    "kernelspec": {
      "name": "python3",
      "display_name": "Python 3"
    },
    "language_info": {
      "name": "python"
    },
    "accelerator": "GPU",
    "widgets": {
      "application/vnd.jupyter.widget-state+json": {
        "4df7d19ff7a64094852d92a887d069f3": {
          "model_module": "@jupyter-widgets/controls",
          "model_name": "HBoxModel",
          "model_module_version": "1.5.0",
          "state": {
            "_view_name": "HBoxView",
            "_dom_classes": [],
            "_model_name": "HBoxModel",
            "_view_module": "@jupyter-widgets/controls",
            "_model_module_version": "1.5.0",
            "_view_count": null,
            "_view_module_version": "1.5.0",
            "box_style": "",
            "layout": "IPY_MODEL_77b33edc52434091a6cd94b1a1162d81",
            "_model_module": "@jupyter-widgets/controls",
            "children": [
              "IPY_MODEL_9350b048ab0c4d3495c41f7327343922",
              "IPY_MODEL_b8d3c24725e5497e89c0bff6227dfcc9",
              "IPY_MODEL_2d0c058f12e14eccb81a6eb34fd65778"
            ]
          }
        },
        "77b33edc52434091a6cd94b1a1162d81": {
          "model_module": "@jupyter-widgets/base",
          "model_name": "LayoutModel",
          "model_module_version": "1.2.0",
          "state": {
            "_view_name": "LayoutView",
            "grid_template_rows": null,
            "right": null,
            "justify_content": null,
            "_view_module": "@jupyter-widgets/base",
            "overflow": null,
            "_model_module_version": "1.2.0",
            "_view_count": null,
            "flex_flow": null,
            "width": null,
            "min_width": null,
            "border": null,
            "align_items": null,
            "bottom": null,
            "_model_module": "@jupyter-widgets/base",
            "top": null,
            "grid_column": null,
            "overflow_y": null,
            "overflow_x": null,
            "grid_auto_flow": null,
            "grid_area": null,
            "grid_template_columns": null,
            "flex": null,
            "_model_name": "LayoutModel",
            "justify_items": null,
            "grid_row": null,
            "max_height": null,
            "align_content": null,
            "visibility": null,
            "align_self": null,
            "height": null,
            "min_height": null,
            "padding": null,
            "grid_auto_rows": null,
            "grid_gap": null,
            "max_width": null,
            "order": null,
            "_view_module_version": "1.2.0",
            "grid_template_areas": null,
            "object_position": null,
            "object_fit": null,
            "grid_auto_columns": null,
            "margin": null,
            "display": null,
            "left": null
          }
        },
        "9350b048ab0c4d3495c41f7327343922": {
          "model_module": "@jupyter-widgets/controls",
          "model_name": "HTMLModel",
          "model_module_version": "1.5.0",
          "state": {
            "_view_name": "HTMLView",
            "style": "IPY_MODEL_dc5d057534b44adb81b735b71ada471a",
            "_dom_classes": [],
            "description": "",
            "_model_name": "HTMLModel",
            "placeholder": "​",
            "_view_module": "@jupyter-widgets/controls",
            "_model_module_version": "1.5.0",
            "value": "100%",
            "_view_count": null,
            "_view_module_version": "1.5.0",
            "description_tooltip": null,
            "_model_module": "@jupyter-widgets/controls",
            "layout": "IPY_MODEL_619891bb71e7417e9de39c82e31aa821"
          }
        },
        "b8d3c24725e5497e89c0bff6227dfcc9": {
          "model_module": "@jupyter-widgets/controls",
          "model_name": "FloatProgressModel",
          "model_module_version": "1.5.0",
          "state": {
            "_view_name": "ProgressView",
            "style": "IPY_MODEL_9ff47dda53e64ccca4210ee22fca79a3",
            "_dom_classes": [],
            "description": "",
            "_model_name": "FloatProgressModel",
            "bar_style": "success",
            "max": 92000,
            "_view_module": "@jupyter-widgets/controls",
            "_model_module_version": "1.5.0",
            "value": 92000,
            "_view_count": null,
            "_view_module_version": "1.5.0",
            "orientation": "horizontal",
            "min": 0,
            "description_tooltip": null,
            "_model_module": "@jupyter-widgets/controls",
            "layout": "IPY_MODEL_3adcd5318bd84102b216873194be4aea"
          }
        },
        "2d0c058f12e14eccb81a6eb34fd65778": {
          "model_module": "@jupyter-widgets/controls",
          "model_name": "HTMLModel",
          "model_module_version": "1.5.0",
          "state": {
            "_view_name": "HTMLView",
            "style": "IPY_MODEL_3c8d053a545c40bd9e3f1844eae2ed1f",
            "_dom_classes": [],
            "description": "",
            "_model_name": "HTMLModel",
            "placeholder": "​",
            "_view_module": "@jupyter-widgets/controls",
            "_model_module_version": "1.5.0",
            "value": " 92000/92000 [02:15&lt;00:00, 660.57it/s]",
            "_view_count": null,
            "_view_module_version": "1.5.0",
            "description_tooltip": null,
            "_model_module": "@jupyter-widgets/controls",
            "layout": "IPY_MODEL_1442c1b3c3a54489a23fcbe894817135"
          }
        },
        "dc5d057534b44adb81b735b71ada471a": {
          "model_module": "@jupyter-widgets/controls",
          "model_name": "DescriptionStyleModel",
          "model_module_version": "1.5.0",
          "state": {
            "_view_name": "StyleView",
            "_model_name": "DescriptionStyleModel",
            "description_width": "",
            "_view_module": "@jupyter-widgets/base",
            "_model_module_version": "1.5.0",
            "_view_count": null,
            "_view_module_version": "1.2.0",
            "_model_module": "@jupyter-widgets/controls"
          }
        },
        "619891bb71e7417e9de39c82e31aa821": {
          "model_module": "@jupyter-widgets/base",
          "model_name": "LayoutModel",
          "model_module_version": "1.2.0",
          "state": {
            "_view_name": "LayoutView",
            "grid_template_rows": null,
            "right": null,
            "justify_content": null,
            "_view_module": "@jupyter-widgets/base",
            "overflow": null,
            "_model_module_version": "1.2.0",
            "_view_count": null,
            "flex_flow": null,
            "width": null,
            "min_width": null,
            "border": null,
            "align_items": null,
            "bottom": null,
            "_model_module": "@jupyter-widgets/base",
            "top": null,
            "grid_column": null,
            "overflow_y": null,
            "overflow_x": null,
            "grid_auto_flow": null,
            "grid_area": null,
            "grid_template_columns": null,
            "flex": null,
            "_model_name": "LayoutModel",
            "justify_items": null,
            "grid_row": null,
            "max_height": null,
            "align_content": null,
            "visibility": null,
            "align_self": null,
            "height": null,
            "min_height": null,
            "padding": null,
            "grid_auto_rows": null,
            "grid_gap": null,
            "max_width": null,
            "order": null,
            "_view_module_version": "1.2.0",
            "grid_template_areas": null,
            "object_position": null,
            "object_fit": null,
            "grid_auto_columns": null,
            "margin": null,
            "display": null,
            "left": null
          }
        },
        "9ff47dda53e64ccca4210ee22fca79a3": {
          "model_module": "@jupyter-widgets/controls",
          "model_name": "ProgressStyleModel",
          "model_module_version": "1.5.0",
          "state": {
            "_view_name": "StyleView",
            "_model_name": "ProgressStyleModel",
            "description_width": "",
            "_view_module": "@jupyter-widgets/base",
            "_model_module_version": "1.5.0",
            "_view_count": null,
            "_view_module_version": "1.2.0",
            "bar_color": null,
            "_model_module": "@jupyter-widgets/controls"
          }
        },
        "3adcd5318bd84102b216873194be4aea": {
          "model_module": "@jupyter-widgets/base",
          "model_name": "LayoutModel",
          "model_module_version": "1.2.0",
          "state": {
            "_view_name": "LayoutView",
            "grid_template_rows": null,
            "right": null,
            "justify_content": null,
            "_view_module": "@jupyter-widgets/base",
            "overflow": null,
            "_model_module_version": "1.2.0",
            "_view_count": null,
            "flex_flow": null,
            "width": null,
            "min_width": null,
            "border": null,
            "align_items": null,
            "bottom": null,
            "_model_module": "@jupyter-widgets/base",
            "top": null,
            "grid_column": null,
            "overflow_y": null,
            "overflow_x": null,
            "grid_auto_flow": null,
            "grid_area": null,
            "grid_template_columns": null,
            "flex": null,
            "_model_name": "LayoutModel",
            "justify_items": null,
            "grid_row": null,
            "max_height": null,
            "align_content": null,
            "visibility": null,
            "align_self": null,
            "height": null,
            "min_height": null,
            "padding": null,
            "grid_auto_rows": null,
            "grid_gap": null,
            "max_width": null,
            "order": null,
            "_view_module_version": "1.2.0",
            "grid_template_areas": null,
            "object_position": null,
            "object_fit": null,
            "grid_auto_columns": null,
            "margin": null,
            "display": null,
            "left": null
          }
        },
        "3c8d053a545c40bd9e3f1844eae2ed1f": {
          "model_module": "@jupyter-widgets/controls",
          "model_name": "DescriptionStyleModel",
          "model_module_version": "1.5.0",
          "state": {
            "_view_name": "StyleView",
            "_model_name": "DescriptionStyleModel",
            "description_width": "",
            "_view_module": "@jupyter-widgets/base",
            "_model_module_version": "1.5.0",
            "_view_count": null,
            "_view_module_version": "1.2.0",
            "_model_module": "@jupyter-widgets/controls"
          }
        },
        "1442c1b3c3a54489a23fcbe894817135": {
          "model_module": "@jupyter-widgets/base",
          "model_name": "LayoutModel",
          "model_module_version": "1.2.0",
          "state": {
            "_view_name": "LayoutView",
            "grid_template_rows": null,
            "right": null,
            "justify_content": null,
            "_view_module": "@jupyter-widgets/base",
            "overflow": null,
            "_model_module_version": "1.2.0",
            "_view_count": null,
            "flex_flow": null,
            "width": null,
            "min_width": null,
            "border": null,
            "align_items": null,
            "bottom": null,
            "_model_module": "@jupyter-widgets/base",
            "top": null,
            "grid_column": null,
            "overflow_y": null,
            "overflow_x": null,
            "grid_auto_flow": null,
            "grid_area": null,
            "grid_template_columns": null,
            "flex": null,
            "_model_name": "LayoutModel",
            "justify_items": null,
            "grid_row": null,
            "max_height": null,
            "align_content": null,
            "visibility": null,
            "align_self": null,
            "height": null,
            "min_height": null,
            "padding": null,
            "grid_auto_rows": null,
            "grid_gap": null,
            "max_width": null,
            "order": null,
            "_view_module_version": "1.2.0",
            "grid_template_areas": null,
            "object_position": null,
            "object_fit": null,
            "grid_auto_columns": null,
            "margin": null,
            "display": null,
            "left": null
          }
        },
        "a899f91de409456196eefc2c4cbdb138": {
          "model_module": "@jupyter-widgets/controls",
          "model_name": "HBoxModel",
          "model_module_version": "1.5.0",
          "state": {
            "_view_name": "HBoxView",
            "_dom_classes": [],
            "_model_name": "HBoxModel",
            "_view_module": "@jupyter-widgets/controls",
            "_model_module_version": "1.5.0",
            "_view_count": null,
            "_view_module_version": "1.5.0",
            "box_style": "",
            "layout": "IPY_MODEL_2ffdb49cac9441d6819ba2f5aa04768b",
            "_model_module": "@jupyter-widgets/controls",
            "children": [
              "IPY_MODEL_dbec09804d924d0d87e656c8cf89a0bb",
              "IPY_MODEL_5e50733ed0fb4cdbaf3e5fc0c8988461",
              "IPY_MODEL_cad3303258634b579149707061004256"
            ]
          }
        },
        "2ffdb49cac9441d6819ba2f5aa04768b": {
          "model_module": "@jupyter-widgets/base",
          "model_name": "LayoutModel",
          "model_module_version": "1.2.0",
          "state": {
            "_view_name": "LayoutView",
            "grid_template_rows": null,
            "right": null,
            "justify_content": null,
            "_view_module": "@jupyter-widgets/base",
            "overflow": null,
            "_model_module_version": "1.2.0",
            "_view_count": null,
            "flex_flow": null,
            "width": null,
            "min_width": null,
            "border": null,
            "align_items": null,
            "bottom": null,
            "_model_module": "@jupyter-widgets/base",
            "top": null,
            "grid_column": null,
            "overflow_y": null,
            "overflow_x": null,
            "grid_auto_flow": null,
            "grid_area": null,
            "grid_template_columns": null,
            "flex": null,
            "_model_name": "LayoutModel",
            "justify_items": null,
            "grid_row": null,
            "max_height": null,
            "align_content": null,
            "visibility": null,
            "align_self": null,
            "height": null,
            "min_height": null,
            "padding": null,
            "grid_auto_rows": null,
            "grid_gap": null,
            "max_width": null,
            "order": null,
            "_view_module_version": "1.2.0",
            "grid_template_areas": null,
            "object_position": null,
            "object_fit": null,
            "grid_auto_columns": null,
            "margin": null,
            "display": null,
            "left": null
          }
        },
        "dbec09804d924d0d87e656c8cf89a0bb": {
          "model_module": "@jupyter-widgets/controls",
          "model_name": "HTMLModel",
          "model_module_version": "1.5.0",
          "state": {
            "_view_name": "HTMLView",
            "style": "IPY_MODEL_f2dc7706476147b088882c271550cf87",
            "_dom_classes": [],
            "description": "",
            "_model_name": "HTMLModel",
            "placeholder": "​",
            "_view_module": "@jupyter-widgets/controls",
            "_model_module_version": "1.5.0",
            "value": "100%",
            "_view_count": null,
            "_view_module_version": "1.5.0",
            "description_tooltip": null,
            "_model_module": "@jupyter-widgets/controls",
            "layout": "IPY_MODEL_4b0f4704eb594d8db9824d478e2fe214"
          }
        },
        "5e50733ed0fb4cdbaf3e5fc0c8988461": {
          "model_module": "@jupyter-widgets/controls",
          "model_name": "FloatProgressModel",
          "model_module_version": "1.5.0",
          "state": {
            "_view_name": "ProgressView",
            "style": "IPY_MODEL_9caaa27d7d4249ad87e75adb6fe5d756",
            "_dom_classes": [],
            "description": "",
            "_model_name": "FloatProgressModel",
            "bar_style": "success",
            "max": 60000,
            "_view_module": "@jupyter-widgets/controls",
            "_model_module_version": "1.5.0",
            "value": 60000,
            "_view_count": null,
            "_view_module_version": "1.5.0",
            "orientation": "horizontal",
            "min": 0,
            "description_tooltip": null,
            "_model_module": "@jupyter-widgets/controls",
            "layout": "IPY_MODEL_e4e804a559fb4bbc9068b53f8417eabd"
          }
        },
        "cad3303258634b579149707061004256": {
          "model_module": "@jupyter-widgets/controls",
          "model_name": "HTMLModel",
          "model_module_version": "1.5.0",
          "state": {
            "_view_name": "HTMLView",
            "style": "IPY_MODEL_57662bba25b3406997c4d5f29c5f4d36",
            "_dom_classes": [],
            "description": "",
            "_model_name": "HTMLModel",
            "placeholder": "​",
            "_view_module": "@jupyter-widgets/controls",
            "_model_module_version": "1.5.0",
            "value": " 60000/60000 [06:59&lt;00:00, 144.35it/s]",
            "_view_count": null,
            "_view_module_version": "1.5.0",
            "description_tooltip": null,
            "_model_module": "@jupyter-widgets/controls",
            "layout": "IPY_MODEL_94d3d08024514f2eb53c98ce1587c7dd"
          }
        },
        "f2dc7706476147b088882c271550cf87": {
          "model_module": "@jupyter-widgets/controls",
          "model_name": "DescriptionStyleModel",
          "model_module_version": "1.5.0",
          "state": {
            "_view_name": "StyleView",
            "_model_name": "DescriptionStyleModel",
            "description_width": "",
            "_view_module": "@jupyter-widgets/base",
            "_model_module_version": "1.5.0",
            "_view_count": null,
            "_view_module_version": "1.2.0",
            "_model_module": "@jupyter-widgets/controls"
          }
        },
        "4b0f4704eb594d8db9824d478e2fe214": {
          "model_module": "@jupyter-widgets/base",
          "model_name": "LayoutModel",
          "model_module_version": "1.2.0",
          "state": {
            "_view_name": "LayoutView",
            "grid_template_rows": null,
            "right": null,
            "justify_content": null,
            "_view_module": "@jupyter-widgets/base",
            "overflow": null,
            "_model_module_version": "1.2.0",
            "_view_count": null,
            "flex_flow": null,
            "width": null,
            "min_width": null,
            "border": null,
            "align_items": null,
            "bottom": null,
            "_model_module": "@jupyter-widgets/base",
            "top": null,
            "grid_column": null,
            "overflow_y": null,
            "overflow_x": null,
            "grid_auto_flow": null,
            "grid_area": null,
            "grid_template_columns": null,
            "flex": null,
            "_model_name": "LayoutModel",
            "justify_items": null,
            "grid_row": null,
            "max_height": null,
            "align_content": null,
            "visibility": null,
            "align_self": null,
            "height": null,
            "min_height": null,
            "padding": null,
            "grid_auto_rows": null,
            "grid_gap": null,
            "max_width": null,
            "order": null,
            "_view_module_version": "1.2.0",
            "grid_template_areas": null,
            "object_position": null,
            "object_fit": null,
            "grid_auto_columns": null,
            "margin": null,
            "display": null,
            "left": null
          }
        },
        "9caaa27d7d4249ad87e75adb6fe5d756": {
          "model_module": "@jupyter-widgets/controls",
          "model_name": "ProgressStyleModel",
          "model_module_version": "1.5.0",
          "state": {
            "_view_name": "StyleView",
            "_model_name": "ProgressStyleModel",
            "description_width": "",
            "_view_module": "@jupyter-widgets/base",
            "_model_module_version": "1.5.0",
            "_view_count": null,
            "_view_module_version": "1.2.0",
            "bar_color": null,
            "_model_module": "@jupyter-widgets/controls"
          }
        },
        "e4e804a559fb4bbc9068b53f8417eabd": {
          "model_module": "@jupyter-widgets/base",
          "model_name": "LayoutModel",
          "model_module_version": "1.2.0",
          "state": {
            "_view_name": "LayoutView",
            "grid_template_rows": null,
            "right": null,
            "justify_content": null,
            "_view_module": "@jupyter-widgets/base",
            "overflow": null,
            "_model_module_version": "1.2.0",
            "_view_count": null,
            "flex_flow": null,
            "width": null,
            "min_width": null,
            "border": null,
            "align_items": null,
            "bottom": null,
            "_model_module": "@jupyter-widgets/base",
            "top": null,
            "grid_column": null,
            "overflow_y": null,
            "overflow_x": null,
            "grid_auto_flow": null,
            "grid_area": null,
            "grid_template_columns": null,
            "flex": null,
            "_model_name": "LayoutModel",
            "justify_items": null,
            "grid_row": null,
            "max_height": null,
            "align_content": null,
            "visibility": null,
            "align_self": null,
            "height": null,
            "min_height": null,
            "padding": null,
            "grid_auto_rows": null,
            "grid_gap": null,
            "max_width": null,
            "order": null,
            "_view_module_version": "1.2.0",
            "grid_template_areas": null,
            "object_position": null,
            "object_fit": null,
            "grid_auto_columns": null,
            "margin": null,
            "display": null,
            "left": null
          }
        },
        "57662bba25b3406997c4d5f29c5f4d36": {
          "model_module": "@jupyter-widgets/controls",
          "model_name": "DescriptionStyleModel",
          "model_module_version": "1.5.0",
          "state": {
            "_view_name": "StyleView",
            "_model_name": "DescriptionStyleModel",
            "description_width": "",
            "_view_module": "@jupyter-widgets/base",
            "_model_module_version": "1.5.0",
            "_view_count": null,
            "_view_module_version": "1.2.0",
            "_model_module": "@jupyter-widgets/controls"
          }
        },
        "94d3d08024514f2eb53c98ce1587c7dd": {
          "model_module": "@jupyter-widgets/base",
          "model_name": "LayoutModel",
          "model_module_version": "1.2.0",
          "state": {
            "_view_name": "LayoutView",
            "grid_template_rows": null,
            "right": null,
            "justify_content": null,
            "_view_module": "@jupyter-widgets/base",
            "overflow": null,
            "_model_module_version": "1.2.0",
            "_view_count": null,
            "flex_flow": null,
            "width": null,
            "min_width": null,
            "border": null,
            "align_items": null,
            "bottom": null,
            "_model_module": "@jupyter-widgets/base",
            "top": null,
            "grid_column": null,
            "overflow_y": null,
            "overflow_x": null,
            "grid_auto_flow": null,
            "grid_area": null,
            "grid_template_columns": null,
            "flex": null,
            "_model_name": "LayoutModel",
            "justify_items": null,
            "grid_row": null,
            "max_height": null,
            "align_content": null,
            "visibility": null,
            "align_self": null,
            "height": null,
            "min_height": null,
            "padding": null,
            "grid_auto_rows": null,
            "grid_gap": null,
            "max_width": null,
            "order": null,
            "_view_module_version": "1.2.0",
            "grid_template_areas": null,
            "object_position": null,
            "object_fit": null,
            "grid_auto_columns": null,
            "margin": null,
            "display": null,
            "left": null
          }
        },
        "06a4866e3edf46b5bcbeaa8f3734ec33": {
          "model_module": "@jupyter-widgets/controls",
          "model_name": "HBoxModel",
          "model_module_version": "1.5.0",
          "state": {
            "_view_name": "HBoxView",
            "_dom_classes": [],
            "_model_name": "HBoxModel",
            "_view_module": "@jupyter-widgets/controls",
            "_model_module_version": "1.5.0",
            "_view_count": null,
            "_view_module_version": "1.5.0",
            "box_style": "",
            "layout": "IPY_MODEL_92af82186df34f97aae1a18964a5a706",
            "_model_module": "@jupyter-widgets/controls",
            "children": [
              "IPY_MODEL_bcd0a25478e345579790fa7c9fbcb2b5",
              "IPY_MODEL_31b36c3120e84c03a2c971d702f242d9",
              "IPY_MODEL_4c2e11bda5f942dda5065af05e5f4447"
            ]
          }
        },
        "92af82186df34f97aae1a18964a5a706": {
          "model_module": "@jupyter-widgets/base",
          "model_name": "LayoutModel",
          "model_module_version": "1.2.0",
          "state": {
            "_view_name": "LayoutView",
            "grid_template_rows": null,
            "right": null,
            "justify_content": null,
            "_view_module": "@jupyter-widgets/base",
            "overflow": null,
            "_model_module_version": "1.2.0",
            "_view_count": null,
            "flex_flow": null,
            "width": null,
            "min_width": null,
            "border": null,
            "align_items": null,
            "bottom": null,
            "_model_module": "@jupyter-widgets/base",
            "top": null,
            "grid_column": null,
            "overflow_y": null,
            "overflow_x": null,
            "grid_auto_flow": null,
            "grid_area": null,
            "grid_template_columns": null,
            "flex": null,
            "_model_name": "LayoutModel",
            "justify_items": null,
            "grid_row": null,
            "max_height": null,
            "align_content": null,
            "visibility": null,
            "align_self": null,
            "height": null,
            "min_height": null,
            "padding": null,
            "grid_auto_rows": null,
            "grid_gap": null,
            "max_width": null,
            "order": null,
            "_view_module_version": "1.2.0",
            "grid_template_areas": null,
            "object_position": null,
            "object_fit": null,
            "grid_auto_columns": null,
            "margin": null,
            "display": null,
            "left": null
          }
        },
        "bcd0a25478e345579790fa7c9fbcb2b5": {
          "model_module": "@jupyter-widgets/controls",
          "model_name": "HTMLModel",
          "model_module_version": "1.5.0",
          "state": {
            "_view_name": "HTMLView",
            "style": "IPY_MODEL_479bb1ce98c346269f6211c1b4b7db1c",
            "_dom_classes": [],
            "description": "",
            "_model_name": "HTMLModel",
            "placeholder": "​",
            "_view_module": "@jupyter-widgets/controls",
            "_model_module_version": "1.5.0",
            "value": "100%",
            "_view_count": null,
            "_view_module_version": "1.5.0",
            "description_tooltip": null,
            "_model_module": "@jupyter-widgets/controls",
            "layout": "IPY_MODEL_5d7cbe33ffef4d139715b4ad9ebec178"
          }
        },
        "31b36c3120e84c03a2c971d702f242d9": {
          "model_module": "@jupyter-widgets/controls",
          "model_name": "FloatProgressModel",
          "model_module_version": "1.5.0",
          "state": {
            "_view_name": "ProgressView",
            "style": "IPY_MODEL_9a837f8dec1d438586e1782af0ded4da",
            "_dom_classes": [],
            "description": "",
            "_model_name": "FloatProgressModel",
            "bar_style": "success",
            "max": 98,
            "_view_module": "@jupyter-widgets/controls",
            "_model_module_version": "1.5.0",
            "value": 98,
            "_view_count": null,
            "_view_module_version": "1.5.0",
            "orientation": "horizontal",
            "min": 0,
            "description_tooltip": null,
            "_model_module": "@jupyter-widgets/controls",
            "layout": "IPY_MODEL_4b4c7bf1246c4a22af2f94e99848499c"
          }
        },
        "4c2e11bda5f942dda5065af05e5f4447": {
          "model_module": "@jupyter-widgets/controls",
          "model_name": "HTMLModel",
          "model_module_version": "1.5.0",
          "state": {
            "_view_name": "HTMLView",
            "style": "IPY_MODEL_15f1e30bebaa47c89f7563960f538c86",
            "_dom_classes": [],
            "description": "",
            "_model_name": "HTMLModel",
            "placeholder": "​",
            "_view_module": "@jupyter-widgets/controls",
            "_model_module_version": "1.5.0",
            "value": " 98/98 [00:05&lt;00:00, 19.32it/s]",
            "_view_count": null,
            "_view_module_version": "1.5.0",
            "description_tooltip": null,
            "_model_module": "@jupyter-widgets/controls",
            "layout": "IPY_MODEL_83eb8245fff14391806001def6288800"
          }
        },
        "479bb1ce98c346269f6211c1b4b7db1c": {
          "model_module": "@jupyter-widgets/controls",
          "model_name": "DescriptionStyleModel",
          "model_module_version": "1.5.0",
          "state": {
            "_view_name": "StyleView",
            "_model_name": "DescriptionStyleModel",
            "description_width": "",
            "_view_module": "@jupyter-widgets/base",
            "_model_module_version": "1.5.0",
            "_view_count": null,
            "_view_module_version": "1.2.0",
            "_model_module": "@jupyter-widgets/controls"
          }
        },
        "5d7cbe33ffef4d139715b4ad9ebec178": {
          "model_module": "@jupyter-widgets/base",
          "model_name": "LayoutModel",
          "model_module_version": "1.2.0",
          "state": {
            "_view_name": "LayoutView",
            "grid_template_rows": null,
            "right": null,
            "justify_content": null,
            "_view_module": "@jupyter-widgets/base",
            "overflow": null,
            "_model_module_version": "1.2.0",
            "_view_count": null,
            "flex_flow": null,
            "width": null,
            "min_width": null,
            "border": null,
            "align_items": null,
            "bottom": null,
            "_model_module": "@jupyter-widgets/base",
            "top": null,
            "grid_column": null,
            "overflow_y": null,
            "overflow_x": null,
            "grid_auto_flow": null,
            "grid_area": null,
            "grid_template_columns": null,
            "flex": null,
            "_model_name": "LayoutModel",
            "justify_items": null,
            "grid_row": null,
            "max_height": null,
            "align_content": null,
            "visibility": null,
            "align_self": null,
            "height": null,
            "min_height": null,
            "padding": null,
            "grid_auto_rows": null,
            "grid_gap": null,
            "max_width": null,
            "order": null,
            "_view_module_version": "1.2.0",
            "grid_template_areas": null,
            "object_position": null,
            "object_fit": null,
            "grid_auto_columns": null,
            "margin": null,
            "display": null,
            "left": null
          }
        },
        "9a837f8dec1d438586e1782af0ded4da": {
          "model_module": "@jupyter-widgets/controls",
          "model_name": "ProgressStyleModel",
          "model_module_version": "1.5.0",
          "state": {
            "_view_name": "StyleView",
            "_model_name": "ProgressStyleModel",
            "description_width": "",
            "_view_module": "@jupyter-widgets/base",
            "_model_module_version": "1.5.0",
            "_view_count": null,
            "_view_module_version": "1.2.0",
            "bar_color": null,
            "_model_module": "@jupyter-widgets/controls"
          }
        },
        "4b4c7bf1246c4a22af2f94e99848499c": {
          "model_module": "@jupyter-widgets/base",
          "model_name": "LayoutModel",
          "model_module_version": "1.2.0",
          "state": {
            "_view_name": "LayoutView",
            "grid_template_rows": null,
            "right": null,
            "justify_content": null,
            "_view_module": "@jupyter-widgets/base",
            "overflow": null,
            "_model_module_version": "1.2.0",
            "_view_count": null,
            "flex_flow": null,
            "width": null,
            "min_width": null,
            "border": null,
            "align_items": null,
            "bottom": null,
            "_model_module": "@jupyter-widgets/base",
            "top": null,
            "grid_column": null,
            "overflow_y": null,
            "overflow_x": null,
            "grid_auto_flow": null,
            "grid_area": null,
            "grid_template_columns": null,
            "flex": null,
            "_model_name": "LayoutModel",
            "justify_items": null,
            "grid_row": null,
            "max_height": null,
            "align_content": null,
            "visibility": null,
            "align_self": null,
            "height": null,
            "min_height": null,
            "padding": null,
            "grid_auto_rows": null,
            "grid_gap": null,
            "max_width": null,
            "order": null,
            "_view_module_version": "1.2.0",
            "grid_template_areas": null,
            "object_position": null,
            "object_fit": null,
            "grid_auto_columns": null,
            "margin": null,
            "display": null,
            "left": null
          }
        },
        "15f1e30bebaa47c89f7563960f538c86": {
          "model_module": "@jupyter-widgets/controls",
          "model_name": "DescriptionStyleModel",
          "model_module_version": "1.5.0",
          "state": {
            "_view_name": "StyleView",
            "_model_name": "DescriptionStyleModel",
            "description_width": "",
            "_view_module": "@jupyter-widgets/base",
            "_model_module_version": "1.5.0",
            "_view_count": null,
            "_view_module_version": "1.2.0",
            "_model_module": "@jupyter-widgets/controls"
          }
        },
        "83eb8245fff14391806001def6288800": {
          "model_module": "@jupyter-widgets/base",
          "model_name": "LayoutModel",
          "model_module_version": "1.2.0",
          "state": {
            "_view_name": "LayoutView",
            "grid_template_rows": null,
            "right": null,
            "justify_content": null,
            "_view_module": "@jupyter-widgets/base",
            "overflow": null,
            "_model_module_version": "1.2.0",
            "_view_count": null,
            "flex_flow": null,
            "width": null,
            "min_width": null,
            "border": null,
            "align_items": null,
            "bottom": null,
            "_model_module": "@jupyter-widgets/base",
            "top": null,
            "grid_column": null,
            "overflow_y": null,
            "overflow_x": null,
            "grid_auto_flow": null,
            "grid_area": null,
            "grid_template_columns": null,
            "flex": null,
            "_model_name": "LayoutModel",
            "justify_items": null,
            "grid_row": null,
            "max_height": null,
            "align_content": null,
            "visibility": null,
            "align_self": null,
            "height": null,
            "min_height": null,
            "padding": null,
            "grid_auto_rows": null,
            "grid_gap": null,
            "max_width": null,
            "order": null,
            "_view_module_version": "1.2.0",
            "grid_template_areas": null,
            "object_position": null,
            "object_fit": null,
            "grid_auto_columns": null,
            "margin": null,
            "display": null,
            "left": null
          }
        }
      }
    }
  },
  "cells": [
    {
      "cell_type": "code",
      "metadata": {
        "colab": {
          "base_uri": "https://localhost:8080/"
        },
        "id": "j5DFCedv5nQ0",
        "outputId": "82e4f675-ce8c-481c-b70b-7443daf29b10"
      },
      "source": [
        "!curl -O https://archive.ics.uci.edu/ml/machine-learning-databases/00389/DevanagariHandwrittenCharacterDataset.zip"
      ],
      "execution_count": null,
      "outputs": [
        {
          "output_type": "stream",
          "name": "stdout",
          "text": [
            "  % Total    % Received % Xferd  Average Speed   Time    Time     Time  Current\n",
            "                                 Dload  Upload   Total   Spent    Left  Speed\n",
            "100 76.6M  100 76.6M    0     0  39.2M      0  0:00:01  0:00:01 --:--:-- 39.2M\n"
          ]
        }
      ]
    },
    {
      "cell_type": "code",
      "metadata": {
        "id": "essH9kw__VdH"
      },
      "source": [
        "!unzip DevanagariHandwrittenCharacterDataset.zip"
      ],
      "execution_count": null,
      "outputs": []
    },
    {
      "cell_type": "code",
      "metadata": {
        "id": "7xRAfa4gs58Z"
      },
      "source": [
        "from glob import glob\n",
        "files=glob('/content/DevanagariHandwrittenCharacterDataset/*/*/*')"
      ],
      "execution_count": null,
      "outputs": []
    },
    {
      "cell_type": "code",
      "metadata": {
        "colab": {
          "base_uri": "https://localhost:8080/"
        },
        "id": "T8g_3dDptcrQ",
        "outputId": "ac0792ee-99fb-4e23-ebe0-208c7fa87176"
      },
      "source": [
        "len(files)"
      ],
      "execution_count": null,
      "outputs": [
        {
          "output_type": "execute_result",
          "data": {
            "text/plain": [
              "92000"
            ]
          },
          "metadata": {},
          "execution_count": 21
        }
      ]
    },
    {
      "cell_type": "code",
      "metadata": {
        "id": "f2vshwJb6AVv"
      },
      "source": [
        "import tensorflow as tf\n",
        "from tensorflow.keras.datasets import cifar10\n",
        "#from tensorflow.keras.preprocessing.image import ImageDataGenerator\n",
        "import matplotlib.pyplot as plt\n",
        "import numpy as np\n",
        "from PIL import Image\n",
        "import random\n",
        "from tqdm.notebook import tqdm,trange"
      ],
      "execution_count": null,
      "outputs": []
    },
    {
      "cell_type": "code",
      "metadata": {
        "id": "-RtqjQ9ztp8z",
        "colab": {
          "base_uri": "https://localhost:8080/",
          "height": 49,
          "referenced_widgets": [
            "4df7d19ff7a64094852d92a887d069f3",
            "77b33edc52434091a6cd94b1a1162d81",
            "9350b048ab0c4d3495c41f7327343922",
            "b8d3c24725e5497e89c0bff6227dfcc9",
            "2d0c058f12e14eccb81a6eb34fd65778",
            "dc5d057534b44adb81b735b71ada471a",
            "619891bb71e7417e9de39c82e31aa821",
            "9ff47dda53e64ccca4210ee22fca79a3",
            "3adcd5318bd84102b216873194be4aea",
            "3c8d053a545c40bd9e3f1844eae2ed1f",
            "1442c1b3c3a54489a23fcbe894817135"
          ]
        },
        "outputId": "9b193c3d-ccbb-43d0-877e-020e25bdccfa"
      },
      "source": [
        "hi_chars=[]\n",
        "for i in tqdm(files):\n",
        "    img=np.array(Image.open(i),dtype=np.uint8).reshape(32,32,1)\n",
        "    rho=random.randint(0,30)\n",
        "    rwo=random.randint(0,30)\n",
        "    img=tf.image.pad_to_bounding_box(img,rho,rwo,64,64)\n",
        "    img=255-np.array(img,dtype=np.uint8)\n",
        "    hi_chars.append(img)\n",
        "hi_chars=np.array(hi_chars,dtype=np.uint8)\n",
        "hi_chars=np.concatenate((hi_chars,hi_chars),axis=0)"
      ],
      "execution_count": null,
      "outputs": [
        {
          "output_type": "display_data",
          "data": {
            "application/vnd.jupyter.widget-view+json": {
              "model_id": "4df7d19ff7a64094852d92a887d069f3",
              "version_minor": 0,
              "version_major": 2
            },
            "text/plain": [
              "  0%|          | 0/92000 [00:00<?, ?it/s]"
            ]
          },
          "metadata": {}
        }
      ]
    },
    {
      "cell_type": "code",
      "metadata": {
        "colab": {
          "base_uri": "https://localhost:8080/"
        },
        "id": "XSTq63UZ-Mcj",
        "outputId": "1fe30aaf-1544-48ed-d171-49c910cb94ff"
      },
      "source": [
        "hi_chars.shape"
      ],
      "execution_count": null,
      "outputs": [
        {
          "output_type": "execute_result",
          "data": {
            "text/plain": [
              "(184000, 64, 64, 1)"
            ]
          },
          "metadata": {},
          "execution_count": 30
        }
      ]
    },
    {
      "cell_type": "code",
      "metadata": {
        "colab": {
          "base_uri": "https://localhost:8080/",
          "height": 285
        },
        "id": "QYtEKDN4zZ8k",
        "outputId": "a6211ae0-6d63-428b-eae4-ce72b8b2195a"
      },
      "source": [
        "plt.imshow(cifar_xt[59999])"
      ],
      "execution_count": null,
      "outputs": [
        {
          "output_type": "execute_result",
          "data": {
            "text/plain": [
              "<matplotlib.image.AxesImage at 0x7f8f56f04d90>"
            ]
          },
          "metadata": {},
          "execution_count": 57
        },
        {
          "output_type": "display_data",
          "data": {
            "image/png": "[encoded data removed]",
            "text/plain": [
              "<Figure size 432x288 with 1 Axes>"
            ]
          },
          "metadata": {
            "needs_background": "light"
          }
        }
      ]
    },
    {
      "cell_type": "code",
      "metadata": {
        "id": "zflRB5b3URWi"
      },
      "source": [
        "(xt,_), (xtt,_)=cifar10.load_data()\n",
        "xt=np.concatenate((xt,xtt),axis=0)\n",
        "cifar_xt=[]\n",
        "for i in xt:\n",
        "    img=Image.fromarray(i)\n",
        "    img=img.resize((64,64))\n",
        "    cifar_xt.append(np.array(img,dtype=np.uint8))\n",
        "xt=0\n",
        "cifar_xt=np.array(cifar_xt,dtype=np.uint8)\n",
        "cifar_xt=np.concatenate((cifar_xt,cifar_xt,cifar_xt),axis=0)"
      ],
      "execution_count": null,
      "outputs": []
    },
    {
      "cell_type": "code",
      "metadata": {
        "id": "O9nyfaMbzaHN"
      },
      "source": [
        "(_,tt),(_,_)=cifar10.load_data()"
      ],
      "execution_count": null,
      "outputs": []
    },
    {
      "cell_type": "code",
      "metadata": {
        "id": "nOVgq39Szhoz"
      },
      "source": [
        "tt=0"
      ],
      "execution_count": null,
      "outputs": []
    },
    {
      "cell_type": "code",
      "metadata": {
        "colab": {
          "base_uri": "https://localhost:8080/"
        },
        "id": "wFuI32c41Eoc",
        "outputId": "f40bc736-3fbf-4dd4-b377-02559a153b48"
      },
      "source": [
        "cifar_xt.shape"
      ],
      "execution_count": null,
      "outputs": [
        {
          "output_type": "execute_result",
          "data": {
            "text/plain": [
              "(120000, 64, 64, 3)"
            ]
          },
          "metadata": {},
          "execution_count": 50
        }
      ]
    },
    {
      "cell_type": "code",
      "metadata": {
        "id": "Qoj3KyxgaqLY"
      },
      "source": [
        "##  Dataset  for classifiction\n",
        "(xt,_), (xtt,_)=cifar10.load_data()\n",
        "xt=np.concatenate((xt,xtt),axis=0)\n",
        "cifar_xt=[]\n",
        "for i in xt:\n",
        "    img=Image.fromarray(i)\n",
        "    img=img.resize((64,64))\n",
        "    cifar_xt.append(np.array(img,dtype=np.uint8))\n",
        "xt=0\n",
        "cifar_xt=np.array(cifar_xt,dtype=np.uint8)\n",
        "cifar_xt=np.concatenate((cifar_xt,cifar_xt),axis=0)"
      ],
      "execution_count": null,
      "outputs": []
    },
    {
      "cell_type": "code",
      "metadata": {
        "id": "FgHABYK-cfuw"
      },
      "source": [
        "## classification dataset"
      ],
      "execution_count": null,
      "outputs": []
    },
    {
      "cell_type": "code",
      "metadata": {
        "id": "aQuQXUXqbt-T"
      },
      "source": [
        "def fusion(base_image,overlay_image):\n",
        "    for i in range(64):\n",
        "        for j in range(64):\n",
        "            if(overlay_image[i,j])<120:\n",
        "                base_image[i,j]=overlay_image[i,j]\n",
        "    return base_image"
      ],
      "execution_count": null,
      "outputs": []
    },
    {
      "cell_type": "code",
      "metadata": {
        "colab": {
          "base_uri": "https://localhost:8080/",
          "height": 49,
          "referenced_widgets": [
            "a899f91de409456196eefc2c4cbdb138",
            "2ffdb49cac9441d6819ba2f5aa04768b",
            "dbec09804d924d0d87e656c8cf89a0bb",
            "5e50733ed0fb4cdbaf3e5fc0c8988461",
            "cad3303258634b579149707061004256",
            "f2dc7706476147b088882c271550cf87",
            "4b0f4704eb594d8db9824d478e2fe214",
            "9caaa27d7d4249ad87e75adb6fe5d756",
            "e4e804a559fb4bbc9068b53f8417eabd",
            "57662bba25b3406997c4d5f29c5f4d36",
            "94d3d08024514f2eb53c98ce1587c7dd"
          ]
        },
        "id": "f39TxDJabAWt",
        "outputId": "21cdcddc-9dd9-4e9a-f8f2-2941311d1a3c"
      },
      "source": [
        "##  Dataset for classification\n",
        "cifar_xt[:60000]=np.array([fusion(cifar_xt[i],hi_chars[i]) for i in trange(60000)],dtype=np.uint8)"
      ],
      "execution_count": null,
      "outputs": [
        {
          "output_type": "display_data",
          "data": {
            "application/vnd.jupyter.widget-view+json": {
              "model_id": "a899f91de409456196eefc2c4cbdb138",
              "version_minor": 0,
              "version_major": 2
            },
            "text/plain": [
              "  0%|          | 0/60000 [00:00<?, ?it/s]"
            ]
          },
          "metadata": {}
        }
      ]
    },
    {
      "cell_type": "code",
      "metadata": {
        "id": "68su_Ex8gMYe"
      },
      "source": [
        "yt=np.ones((60000,),dtype=np.uint8)\n",
        "ytf=np.zeros((60000),dtype=np.uint8)\n",
        "yt=np.concatenate((yt,ytf),axis=0)"
      ],
      "execution_count": null,
      "outputs": []
    },
    {
      "cell_type": "code",
      "metadata": {
        "id": "-NmMrDMTiazs"
      },
      "source": [
        "yt=yt.reshape(120000,1)"
      ],
      "execution_count": null,
      "outputs": []
    },
    {
      "cell_type": "code",
      "metadata": {
        "colab": {
          "base_uri": "https://localhost:8080/"
        },
        "id": "rfmoKqPozOPw",
        "outputId": "b23ef35b-dd33-49ab-dc22-202e556019b0"
      },
      "source": [
        "yt[0]"
      ],
      "execution_count": null,
      "outputs": [
        {
          "output_type": "execute_result",
          "data": {
            "text/plain": [
              "array([1], dtype=uint8)"
            ]
          },
          "metadata": {},
          "execution_count": 82
        }
      ]
    },
    {
      "cell_type": "code",
      "metadata": {
        "id": "5DgtMOA78jen"
      },
      "source": [
        "def invert(base_image,overlay_image):\n",
        "    for i in range(64):\n",
        "        for j in range(64):\n",
        "            if(overlay_image[i,j])<120:\n",
        "                base_image[i,j]=overlay_image[i,j]\n",
        "    return base_image,overlay_image"
      ],
      "execution_count": null,
      "outputs": []
    },
    {
      "cell_type": "code",
      "metadata": {
        "id": "NwjS3CJo21EN"
      },
      "source": [
        "def gen_dataset():\n",
        "    for i in range(180000):\n",
        "        yield invert(cifar_xt[i],hi_chars[i])"
      ],
      "execution_count": null,
      "outputs": []
    },
    {
      "cell_type": "code",
      "metadata": {
        "id": "iv7oG9Nt2khn"
      },
      "source": [
        "dataset=tf.data.Dataset.from_generator(gen_dataset,(tf.uint8,tf.uint8))\n",
        "dataset=dataset.repeat()\n",
        "dataset=dataset.batch(256)"
      ],
      "execution_count": null,
      "outputs": []
    },
    {
      "cell_type": "code",
      "metadata": {
        "id": "j1CxK0PkrVpL"
      },
      "source": [
        "def gen_classification_dataset():\n",
        "    for i in range(120000):\n",
        "        yield cifar_xt[i],yt[i]"
      ],
      "execution_count": null,
      "outputs": []
    },
    {
      "cell_type": "code",
      "metadata": {
        "id": "jL8zEPY0rfwm"
      },
      "source": [
        "classification_dataset=tf.data.Dataset.from_generator(gen_classification_dataset,(tf.uint8,tf.uint8))\n",
        "classification_dataset=classification_dataset.shuffle(120000)\n",
        "classification_dataset=classification_dataset.repeat()\n",
        "classification_dataset=classification_dataset.batch(256)"
      ],
      "execution_count": null,
      "outputs": []
    },
    {
      "cell_type": "code",
      "metadata": {
        "id": "ft_cBpPntNPs"
      },
      "source": [
        "def loss_fn(y_true,y_pred):\n",
        "    y_true=tf.cast(y_true,tf.float32)\n",
        "    y_pred=tf.cast(y_pred,tf.float32)\n",
        "    ssim=tf.image.ssim(y_true,y_pred,max_val=255)\n",
        "    y_t=tf.ones_like(ssim)\n",
        "    return tf.keras.losses.mean_squared_error([y_t],[ssim])"
      ],
      "execution_count": null,
      "outputs": []
    },
    {
      "cell_type": "code",
      "metadata": {
        "id": "_MhMunrp-jmw"
      },
      "source": [
        "def metric_fn(y_true,y_pred):\n",
        "    return tf.math.reduce_mean([tf.image.ssim(y_true,y_pred,max_val=255)],axis=-1)"
      ],
      "execution_count": null,
      "outputs": []
    },
    {
      "cell_type": "code",
      "metadata": {
        "id": "LTLdzNR_PMju"
      },
      "source": [
        "inp=tf.keras.Input((64,64,3))\n",
        "#x=tf.keras.layers.Resizing(64,64)(inp)\n",
        "x=tf.keras.layers.Lambda(tf.image.rgb_to_grayscale)(inp)\n",
        "x=tf.keras.layers.Rescaling(scale=1./255)(x)\n",
        "# (?,64,64,1)\n",
        "x_64es1 = tf.keras.layers.Conv2D(8,(3,1),activation=tf.nn.leaky_relu,padding='same')(x)\n",
        "x_64es1 = tf.keras.layers.BatchNormalization()(x_64es1)\n",
        "x_64es2 = tf.keras.layers.Conv2D(8,(1,5),activation=tf.nn.leaky_relu,padding='same')(x)\n",
        "x_64es2 = tf.keras.layers.BatchNormalization()(x_64es2)\n",
        "x_64e = tf.keras.layers.Conv2D(8, (3, 3), activation=tf.nn.leaky_relu, padding='same')(tf.keras.layers.concatenate([x,x_64es1,x_64es2]))\n",
        "x_64e = tf.keras.layers.BatchNormalization()(x_64e)\n",
        "# (?,64,64,8)\n",
        "x_32p = tf.keras.layers.AvgPool2D((2, 2), padding='same')(x_64e)\n",
        "# (?,32,32,8)\n",
        "x_32es1 = tf.keras.layers.Conv2D(8,(3,1),activation=tf.nn.leaky_relu,padding='same')(x_32p)\n",
        "x_32es1 = tf.keras.layers.BatchNormalization()(x_32es1)\n",
        "x_32es2 = tf.keras.layers.Conv2D(8,(1,5),activation=tf.nn.leaky_relu,padding='same')(x_32p)\n",
        "x_32es2 = tf.keras.layers.BatchNormalization()(x_32es2)\n",
        "x_32e = tf.keras.layers.Conv2D(16, (3, 3), activation=tf.nn.leaky_relu, padding='same')(tf.keras.layers.concatenate([x_32p,x_32es1,x_32es2]))\n",
        "x_32e = tf.keras.layers.BatchNormalization()(x_32e)\n",
        "# (?,32,32,16)\n",
        "x_16p = tf.keras.layers.AvgPool2D((2, 2), padding='same')(x_32e)\n",
        "# (?,16,16,16)\n",
        "x_16es1 = tf.keras.layers.Conv2D(8,(3,1),activation=tf.nn.leaky_relu,padding='same')(x_16p)\n",
        "x_16es1 = tf.keras.layers.BatchNormalization()(x_16es1)\n",
        "x_16es2 = tf.keras.layers.Conv2D(8,(1,5),activation=tf.nn.leaky_relu,padding='same')(x_16p)\n",
        "x_16es2 = tf.keras.layers.BatchNormalization()(x_16es2)\n",
        "x_16e = tf.keras.layers.Conv2D(32, (3, 3), activation=tf.nn.leaky_relu, padding='same')(tf.keras.layers.concatenate([x_16p,x_16es1,x_16es2]))\n",
        "x_16e = tf.keras.layers.BatchNormalization()(x_16e)\n",
        "# (?,16,16,32)\n",
        "x_8p = tf.keras.layers.AvgPool2D((2, 2), padding='same')(x_16e)\n",
        "# (?,8,8,32)\n",
        "x_8e = tf.keras.layers.Conv2D(64, (3, 3), activation=tf.nn.leaky_relu, padding='same')(x_8p)\n",
        "x_8e = tf.keras.layers.BatchNormalization()(x_8e)\n",
        "# (?,8,8,64)\n",
        "encoded = tf.keras.layers.AvgPool2D((2, 2), padding='same')(x_8e)\n",
        "# (?,4,4,64)\n",
        "\n",
        "x = tf.keras.layers.Conv2DTranspose(32, (3, 3), activation=tf.nn.leaky_relu, padding='same')(encoded)\n",
        "x = tf.keras.layers.BatchNormalization()(x)\n",
        "# (?,4,4,32)\n",
        "x = tf.keras.layers.UpSampling2D((2, 2))(x)\n",
        "# (?,8,8,32)\n",
        "x = tf.keras.layers.Conv2DTranspose(16, (3, 3), activation=tf.nn.leaky_relu, padding='same')(tf.keras.layers.concatenate([x,x_8e]))\n",
        "x = tf.keras.layers.BatchNormalization()(x)\n",
        "# (?,8,8,16)\n",
        "x = tf.keras.layers.UpSampling2D((2, 2))(x)\n",
        "# (?,16,16,16)\n",
        "x = tf.keras.layers.Conv2DTranspose(8, (3, 3), activation=tf.nn.leaky_relu,padding='same')(tf.keras.layers.concatenate([x,x_16e,x_16es1,x_16es2]))\n",
        "x = tf.keras.layers.BatchNormalization()(x)\n",
        "# (?,16,16,8)\n",
        "x = tf.keras.layers.UpSampling2D((2, 2))(x)\n",
        "# (?,32,32,8)\n",
        "x = tf.keras.layers.Conv2DTranspose(1, (3, 3), activation=tf.nn.leaky_relu,padding='same')(tf.keras.layers.concatenate([x,x_32e,x_32es1,x_32es2]))\n",
        "x = tf.keras.layers.BatchNormalization()(x)\n",
        "# (?,32,32,1)\n",
        "x = tf.keras.layers.UpSampling2D((2, 2))(x)\n",
        "# (?,64,64,1)\n",
        "x = tf.keras.layers.Activation('sigmoid')(x)\n",
        "\n",
        "out=tf.keras.layers.Rescaling(scale=255)(x)\n",
        "\n",
        "model=tf.keras.Model(inputs=inp,outputs=out)\n",
        "model.compile(optimizer='adam', loss=loss_fn,metrics=[metric_fn])"
      ],
      "execution_count": null,
      "outputs": []
    },
    {
      "cell_type": "code",
      "metadata": {
        "id": "Ok7jL87v7NFa",
        "colab": {
          "base_uri": "https://localhost:8080/"
        },
        "outputId": "f539535d-95d4-4eae-ec6b-810e2dac51ef"
      },
      "source": [
        "model(np.expand_dims(cifar_xt[0],axis=0)).shape"
      ],
      "execution_count": null,
      "outputs": [
        {
          "output_type": "execute_result",
          "data": {
            "text/plain": [
              "TensorShape([1, 64, 64, 1])"
            ]
          },
          "metadata": {},
          "execution_count": 23
        }
      ]
    },
    {
      "cell_type": "code",
      "metadata": {
        "id": "ZinqIkbw4lmw",
        "colab": {
          "base_uri": "https://localhost:8080/"
        },
        "outputId": "ed9aa0e8-14c3-4aac-808d-08bf0e7af552"
      },
      "source": [
        "model.fit(dataset,epochs=30,steps_per_epoch=36)"
      ],
      "execution_count": null,
      "outputs": [
        {
          "output_type": "stream",
          "name": "stdout",
          "text": [
            "Epoch 1/30\n",
            "36/36 [==============================] - 98s 2s/step - loss: 0.3388 - metric_fn: 0.4265\n",
            "Epoch 2/30\n",
            "36/36 [==============================] - 67s 2s/step - loss: 0.1878 - metric_fn: 0.5684\n",
            "Epoch 3/30\n",
            "36/36 [==============================] - 65s 2s/step - loss: 0.1247 - metric_fn: 0.6499\n",
            "Epoch 4/30\n",
            "36/36 [==============================] - 66s 2s/step - loss: 0.0851 - metric_fn: 0.7111\n",
            "Epoch 5/30\n",
            "36/36 [==============================] - 66s 2s/step - loss: 0.0734 - metric_fn: 0.7320\n",
            "Epoch 6/30\n",
            "36/36 [==============================] - 67s 2s/step - loss: 0.0601 - metric_fn: 0.7572\n",
            "Epoch 7/30\n",
            "36/36 [==============================] - 66s 2s/step - loss: 0.0578 - metric_fn: 0.7619\n",
            "Epoch 8/30\n",
            "36/36 [==============================] - 66s 2s/step - loss: 0.0501 - metric_fn: 0.7782\n",
            "Epoch 9/30\n",
            "36/36 [==============================] - 66s 2s/step - loss: 0.0471 - metric_fn: 0.7850\n",
            "Epoch 10/30\n",
            "36/36 [==============================] - 66s 2s/step - loss: 0.0455 - metric_fn: 0.7886\n",
            "Epoch 11/30\n",
            "36/36 [==============================] - 65s 2s/step - loss: 0.0424 - metric_fn: 0.7964\n",
            "Epoch 12/30\n",
            "36/36 [==============================] - 66s 2s/step - loss: 0.0396 - metric_fn: 0.8028\n",
            "Epoch 13/30\n",
            "36/36 [==============================] - 65s 2s/step - loss: 0.0360 - metric_fn: 0.8119\n",
            "Epoch 14/30\n",
            "36/36 [==============================] - 65s 2s/step - loss: 0.0346 - metric_fn: 0.8160\n",
            "Epoch 15/30\n",
            "36/36 [==============================] - 65s 2s/step - loss: 0.0364 - metric_fn: 0.8120\n",
            "Epoch 16/30\n",
            "36/36 [==============================] - 65s 2s/step - loss: 0.0318 - metric_fn: 0.8237\n",
            "Epoch 17/30\n",
            "36/36 [==============================] - 65s 2s/step - loss: 0.0315 - metric_fn: 0.8243\n",
            "Epoch 18/30\n",
            "36/36 [==============================] - 64s 2s/step - loss: 0.0283 - metric_fn: 0.8336\n",
            "Epoch 19/30\n",
            "36/36 [==============================] - 64s 2s/step - loss: 0.0273 - metric_fn: 0.8366\n",
            "Epoch 20/30\n",
            "36/36 [==============================] - 64s 2s/step - loss: 0.0266 - metric_fn: 0.8386\n",
            "Epoch 21/30\n",
            "36/36 [==============================] - 65s 2s/step - loss: 0.0262 - metric_fn: 0.8404\n",
            "Epoch 22/30\n",
            "36/36 [==============================] - 65s 2s/step - loss: 0.0252 - metric_fn: 0.8430\n",
            "Epoch 23/30\n",
            "36/36 [==============================] - 65s 2s/step - loss: 0.0234 - metric_fn: 0.8489\n",
            "Epoch 24/30\n",
            "36/36 [==============================] - 67s 2s/step - loss: 0.0256 - metric_fn: 0.8429\n",
            "Epoch 25/30\n",
            "36/36 [==============================] - 66s 2s/step - loss: 0.0229 - metric_fn: 0.8506\n",
            "Epoch 26/30\n",
            "36/36 [==============================] - 67s 2s/step - loss: 0.0220 - metric_fn: 0.8535\n",
            "Epoch 27/30\n",
            "36/36 [==============================] - 66s 2s/step - loss: 0.0215 - metric_fn: 0.8554\n",
            "Epoch 28/30\n",
            "36/36 [==============================] - 66s 2s/step - loss: 0.0195 - metric_fn: 0.8622\n",
            "Epoch 29/30\n",
            "36/36 [==============================] - 66s 2s/step - loss: 0.0196 - metric_fn: 0.8619\n",
            "Epoch 30/30\n",
            "36/36 [==============================] - 66s 2s/step - loss: 0.0194 - metric_fn: 0.8624\n"
          ]
        },
        {
          "output_type": "execute_result",
          "data": {
            "text/plain": [
              "<keras.callbacks.History at 0x7f8fb90940d0>"
            ]
          },
          "metadata": {},
          "execution_count": 39
        }
      ]
    },
    {
      "cell_type": "code",
      "metadata": {
        "id": "pYHBszRNVCkG"
      },
      "source": [
        "model.summary()"
      ],
      "execution_count": null,
      "outputs": []
    },
    {
      "cell_type": "code",
      "metadata": {
        "id": "PxyRM3ygnBuC"
      },
      "source": [
        "tf.saved_model.save(model,'Autoenc/')"
      ],
      "execution_count": null,
      "outputs": []
    },
    {
      "cell_type": "code",
      "metadata": {
        "id": "MJVHX65sW0W9"
      },
      "source": [
        "model.trainable=False #Freeze weights of autoencoder"
      ],
      "execution_count": null,
      "outputs": []
    },
    {
      "cell_type": "code",
      "metadata": {
        "id": "N2B2xzzA6YnH"
      },
      "source": [
        "inp=tf.keras.Input((64,64,3))\n",
        "x=model(inp)\n",
        "x=tf.keras.layers.Rescaling(scale=1./255)(x)\n",
        "cx=tf.keras.layers.Rescaling(scale=1./255)(inp)\n",
        "# (?,64,64,1)\n",
        "x_64es1 = tf.keras.layers.Conv2D(8,(3,1),activation=tf.nn.leaky_relu,padding='same')(cx)\n",
        "x_64es1 = tf.keras.layers.BatchNormalization()(x_64es1)\n",
        "x_64es2 = tf.keras.layers.Conv2D(8,(1,5),activation=tf.nn.leaky_relu,padding='same')(cx)\n",
        "x_64es2 = tf.keras.layers.BatchNormalization()(x_64es2)\n",
        "x_64e = tf.keras.layers.Conv2D(8, (3, 3), activation=tf.nn.leaky_relu, padding='same')(tf.keras.layers.concatenate([x,x_64es1,x_64es2]))\n",
        "x_64e = tf.keras.layers.BatchNormalization()(x_64e)\n",
        "# (?,64,64,8)\n",
        "x_32p = tf.keras.layers.AvgPool2D((2, 2), padding='same')(x_64e)\n",
        "# (?,32,32,8)\n",
        "x_32es1 = tf.keras.layers.Conv2D(8,(3,1),activation=tf.nn.leaky_relu,padding='same')(x_32p)\n",
        "x_32es1 = tf.keras.layers.BatchNormalization()(x_32es1)\n",
        "x_32es2 = tf.keras.layers.Conv2D(8,(1,5),activation=tf.nn.leaky_relu,padding='same')(x_32p)\n",
        "x_32es2 = tf.keras.layers.BatchNormalization()(x_32es2)\n",
        "x_32e = tf.keras.layers.Conv2D(16, (3, 3), activation=tf.nn.leaky_relu, padding='same')(tf.keras.layers.concatenate([x_32p,x_32es1,x_32es2]))\n",
        "x_32e = tf.keras.layers.BatchNormalization()(x_32e)\n",
        "# (?,32,32,16)\n",
        "x_16p = tf.keras.layers.AvgPool2D((2, 2), padding='same')(x_32e)\n",
        "# (?,16,16,16)\n",
        "x_16es1 = tf.keras.layers.Conv2D(8,(3,1),activation=tf.nn.leaky_relu,padding='same')(x_16p)\n",
        "x_16es1 = tf.keras.layers.BatchNormalization()(x_16es1)\n",
        "x_16es2 = tf.keras.layers.Conv2D(8,(1,5),activation=tf.nn.leaky_relu,padding='same')(x_16p)\n",
        "x_16es2 = tf.keras.layers.BatchNormalization()(x_16es2)\n",
        "x_16e = tf.keras.layers.Conv2D(32, (3, 3), activation=tf.nn.leaky_relu, padding='same')(tf.keras.layers.concatenate([x_16p,x_16es1,x_16es2]))\n",
        "x_16e = tf.keras.layers.BatchNormalization()(x_16e)\n",
        "# (?,16,16,32)\n",
        "x_8p = tf.keras.layers.AvgPool2D((2, 2), padding='same')(x_16e)\n",
        "# (?,8,8,32)\n",
        "x_8e = tf.keras.layers.Conv2D(64, (3, 3), activation=tf.nn.leaky_relu, padding='same')(x_8p)\n",
        "x_8e = tf.keras.layers.BatchNormalization()(x_8e)\n",
        "# (?,8,8,64)\n",
        "x = tf.keras.layers.AvgPool2D((2, 2), padding='same')(x_8e)\n",
        "x=tf.keras.layers.Flatten()(x)\n",
        "x=tf.keras.layers.Dense(1024,activation=tf.nn.leaky_relu)(x)\n",
        "x=tf.keras.layers.Dense(1,activation='sigmoid')(x)\n",
        "classification_model=tf.keras.Model(inputs=inp,outputs=x)\n",
        "classification_model.compile(optimizer='adam',loss='bce')\n"
      ],
      "execution_count": null,
      "outputs": []
    },
    {
      "cell_type": "code",
      "metadata": {
        "id": "Na3gK6gA3lgd"
      },
      "source": [
        "classification_model.summary()"
      ],
      "execution_count": null,
      "outputs": []
    },
    {
      "cell_type": "code",
      "metadata": {
        "colab": {
          "base_uri": "https://localhost:8080/"
        },
        "id": "4BlsAUbfz-xd",
        "outputId": "723fb3af-dbf3-422d-f6b2-5f96e04ee26c"
      },
      "source": [
        "classification_model(np.expand_dims(cifar_xt[9],axis=0))"
      ],
      "execution_count": null,
      "outputs": [
        {
          "output_type": "execute_result",
          "data": {
            "text/plain": [
              "<tf.Tensor: shape=(1, 1), dtype=float32, numpy=array([[0.506869]], dtype=float32)>"
            ]
          },
          "metadata": {},
          "execution_count": 91
        }
      ]
    },
    {
      "cell_type": "code",
      "metadata": {
        "colab": {
          "base_uri": "https://localhost:8080/"
        },
        "id": "69Al92C8c4WY",
        "outputId": "d494be60-dc10-4a89-ec35-53f4a1f19e74"
      },
      "source": [
        "classification_model.fit(classification_dataset,epochs=10,steps_per_epoch=36)"
      ],
      "execution_count": null,
      "outputs": [
        {
          "output_type": "stream",
          "name": "stdout",
          "text": [
            "Epoch 1/10\n",
            "36/36 [==============================] - 37s 209ms/step - loss: 0.2976\n",
            "Epoch 2/10\n",
            "36/36 [==============================] - 7s 207ms/step - loss: 0.0365\n",
            "Epoch 3/10\n",
            "36/36 [==============================] - 7s 207ms/step - loss: 0.0289\n",
            "Epoch 4/10\n",
            "36/36 [==============================] - 7s 207ms/step - loss: 0.0152\n",
            "Epoch 5/10\n",
            "36/36 [==============================] - 7s 206ms/step - loss: 0.0076\n",
            "Epoch 6/10\n",
            "36/36 [==============================] - 7s 206ms/step - loss: 0.0072\n",
            "Epoch 7/10\n",
            "36/36 [==============================] - 7s 207ms/step - loss: 0.0066\n",
            "Epoch 8/10\n",
            "36/36 [==============================] - 7s 207ms/step - loss: 0.0044\n",
            "Epoch 9/10\n",
            "36/36 [==============================] - 7s 206ms/step - loss: 0.0046\n",
            "Epoch 10/10\n",
            "36/36 [==============================] - 7s 208ms/step - loss: 0.0022\n"
          ]
        },
        {
          "output_type": "execute_result",
          "data": {
            "text/plain": [
              "<keras.callbacks.History at 0x7f8f58482f50>"
            ]
          },
          "metadata": {},
          "execution_count": 93
        }
      ]
    },
    {
      "cell_type": "code",
      "metadata": {
        "id": "twIP_74a1HMu"
      },
      "source": [
        "!unzip test.zip"
      ],
      "execution_count": null,
      "outputs": []
    },
    {
      "cell_type": "code",
      "metadata": {
        "id": "AwMNLrfcocwE"
      },
      "source": [
        "test_files=glob('test/*')"
      ],
      "execution_count": null,
      "outputs": []
    },
    {
      "cell_type": "code",
      "metadata": {
        "colab": {
          "base_uri": "https://localhost:8080/",
          "height": 49,
          "referenced_widgets": [
            "06a4866e3edf46b5bcbeaa8f3734ec33",
            "92af82186df34f97aae1a18964a5a706",
            "bcd0a25478e345579790fa7c9fbcb2b5",
            "31b36c3120e84c03a2c971d702f242d9",
            "4c2e11bda5f942dda5065af05e5f4447",
            "479bb1ce98c346269f6211c1b4b7db1c",
            "5d7cbe33ffef4d139715b4ad9ebec178",
            "9a837f8dec1d438586e1782af0ded4da",
            "4b4c7bf1246c4a22af2f94e99848499c",
            "15f1e30bebaa47c89f7563960f538c86",
            "83eb8245fff14391806001def6288800"
          ]
        },
        "id": "IFcRn7Apsi0r",
        "outputId": "80ea1bd8-9a55-40d3-9f10-98d6e5beb074"
      },
      "source": [
        "d={}\n",
        "for i in tqdm(test_files):\n",
        "    img=np.expand_dims(np.array(Image.open(i)),axis=0)\n",
        "    d[i.split('/')[-1]]=float(classification_model(img,training=False).numpy()[0][0])"
      ],
      "execution_count": null,
      "outputs": [
        {
          "output_type": "display_data",
          "data": {
            "application/vnd.jupyter.widget-view+json": {
              "model_id": "06a4866e3edf46b5bcbeaa8f3734ec33",
              "version_minor": 0,
              "version_major": 2
            },
            "text/plain": [
              "  0%|          | 0/98 [00:00<?, ?it/s]"
            ]
          },
          "metadata": {}
        }
      ]
    },
    {
      "cell_type": "code",
      "metadata": {
        "id": "3byBuU3x1mdI"
      },
      "source": [
        "d"
      ],
      "execution_count": null,
      "outputs": []
    },
    {
      "cell_type": "code",
      "metadata": {
        "id": "8Vq9bvLE0y4c"
      },
      "source": [
        "import json\n",
        "f=open('output.json','w')\n",
        "json.dump(d,f)\n",
        "f.close()"
      ],
      "execution_count": null,
      "outputs": []
    },
    {
      "cell_type": "code",
      "metadata": {
        "id": "Cg-T7-K4kvnF"
      },
      "source": [
        "import matplotlib.pyplot as plt"
      ],
      "execution_count": null,
      "outputs": []
    },
    {
      "cell_type": "code",
      "metadata": {
        "colab": {
          "base_uri": "https://localhost:8080/"
        },
        "id": "dlhb_2B2oAhn",
        "outputId": "51d93bc1-57ed-492b-9e56-87cd3bf1c2ce"
      },
      "source": [
        "cifar_xt.shape"
      ],
      "execution_count": null,
      "outputs": [
        {
          "output_type": "execute_result",
          "data": {
            "text/plain": [
              "(120000, 64, 64, 3)"
            ]
          },
          "metadata": {},
          "execution_count": 24
        }
      ]
    },
    {
      "cell_type": "code",
      "metadata": {
        "colab": {
          "base_uri": "https://localhost:8080/",
          "height": 285
        },
        "id": "fJhaD7zqimvp",
        "outputId": "e57958d7-514b-4c28-87a5-ede283819951"
      },
      "source": [
        "plt.imshow(cifar_xt[5])"
      ],
      "execution_count": null,
      "outputs": [
        {
          "output_type": "execute_result",
          "data": {
            "text/plain": [
              "<matplotlib.image.AxesImage at 0x7fd3622706d0>"
            ]
          },
          "metadata": {},
          "execution_count": 19
        },
        {
          "output_type": "display_data",
          "data": {
            "image/png": "[encoded data removed]",
            "text/plain": [
              "<Figure size 432x288 with 1 Axes>"
            ]
          },
          "metadata": {
            "needs_background": "light"
          }
        }
      ]
    },
    {
      "cell_type": "code",
      "metadata": {
        "colab": {
          "base_uri": "https://localhost:8080/",
          "height": 285
        },
        "id": "Wx1S7CPOYvvX",
        "outputId": "d551df1a-8c41-474c-c167-b9e9f6e7ac8f"
      },
      "source": [
        "#img2,_=invert(xt[5],hi_chars[12])\n",
        "img2=np.array(Image.open('tst.jpg'),dtype=np.uint8)\n",
        "img2=np.expand_dims(img2,axis=0)\n",
        "plt.imshow(np.array(model(img2)[0],dtype=np.uint8).reshape(64,64),cmap='gray')"
      ],
      "execution_count": null,
      "outputs": [
        {
          "output_type": "execute_result",
          "data": {
            "text/plain": [
              "<matplotlib.image.AxesImage at 0x7fe3a66c09d0>"
            ]
          },
          "metadata": {},
          "execution_count": 16
        },
        {
          "output_type": "display_data",
          "data": {
            "image/png": "[encoded data removed]",
            "text/plain": [
              "<Figure size 432x288 with 1 Axes>"
            ]
          },
          "metadata": {
            "needs_background": "light"
          }
        }
      ]
    }
  ]
}
